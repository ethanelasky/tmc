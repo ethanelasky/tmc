{
 "cells": [
  {
   "cell_type": "code",
   "execution_count": 1,
   "metadata": {},
   "outputs": [
    {
     "name": "stdout",
     "output_type": "stream",
     "text": [
      "Requirement already satisfied: pytest-playwright==0.4.3 in /Users/ethanelasky/anaconda3/lib/python3.11/site-packages (from -r requirements.txt (line 2)) (0.4.3)\n",
      "Requirement already satisfied: playwright>=1.18 in /Users/ethanelasky/anaconda3/lib/python3.11/site-packages (from pytest-playwright==0.4.3->-r requirements.txt (line 2)) (1.39.0)\n",
      "Requirement already satisfied: pytest<8.0.0,>=6.2.4 in /Users/ethanelasky/anaconda3/lib/python3.11/site-packages (from pytest-playwright==0.4.3->-r requirements.txt (line 2)) (7.3.1)\n",
      "Requirement already satisfied: pytest-base-url<3.0.0,>=1.0.0 in /Users/ethanelasky/anaconda3/lib/python3.11/site-packages (from pytest-playwright==0.4.3->-r requirements.txt (line 2)) (2.0.0)\n",
      "Requirement already satisfied: python-slugify<9.0.0,>=6.0.0 in /Users/ethanelasky/anaconda3/lib/python3.11/site-packages (from pytest-playwright==0.4.3->-r requirements.txt (line 2)) (8.0.1)\n",
      "Requirement already satisfied: greenlet==3.0.0 in /Users/ethanelasky/anaconda3/lib/python3.11/site-packages (from playwright>=1.18->pytest-playwright==0.4.3->-r requirements.txt (line 2)) (3.0.0)\n",
      "Requirement already satisfied: pyee==11.0.1 in /Users/ethanelasky/anaconda3/lib/python3.11/site-packages (from playwright>=1.18->pytest-playwright==0.4.3->-r requirements.txt (line 2)) (11.0.1)\n",
      "Requirement already satisfied: typing-extensions in /Users/ethanelasky/anaconda3/lib/python3.11/site-packages (from pyee==11.0.1->playwright>=1.18->pytest-playwright==0.4.3->-r requirements.txt (line 2)) (4.6.3)\n",
      "Requirement already satisfied: iniconfig in /Users/ethanelasky/anaconda3/lib/python3.11/site-packages (from pytest<8.0.0,>=6.2.4->pytest-playwright==0.4.3->-r requirements.txt (line 2)) (1.1.1)\n",
      "Requirement already satisfied: packaging in /Users/ethanelasky/anaconda3/lib/python3.11/site-packages (from pytest<8.0.0,>=6.2.4->pytest-playwright==0.4.3->-r requirements.txt (line 2)) (23.0)\n",
      "Requirement already satisfied: pluggy<2.0,>=0.12 in /Users/ethanelasky/anaconda3/lib/python3.11/site-packages (from pytest<8.0.0,>=6.2.4->pytest-playwright==0.4.3->-r requirements.txt (line 2)) (1.0.0)\n",
      "Requirement already satisfied: requests>=2.9 in /Users/ethanelasky/anaconda3/lib/python3.11/site-packages (from pytest-base-url<3.0.0,>=1.0.0->pytest-playwright==0.4.3->-r requirements.txt (line 2)) (2.28.1)\n",
      "Requirement already satisfied: text-unidecode>=1.3 in /Users/ethanelasky/anaconda3/lib/python3.11/site-packages (from python-slugify<9.0.0,>=6.0.0->pytest-playwright==0.4.3->-r requirements.txt (line 2)) (1.3)\n",
      "Requirement already satisfied: charset-normalizer<3,>=2 in /Users/ethanelasky/anaconda3/lib/python3.11/site-packages (from requests>=2.9->pytest-base-url<3.0.0,>=1.0.0->pytest-playwright==0.4.3->-r requirements.txt (line 2)) (2.0.7)\n",
      "Requirement already satisfied: idna<4,>=2.5 in /Users/ethanelasky/anaconda3/lib/python3.11/site-packages (from requests>=2.9->pytest-base-url<3.0.0,>=1.0.0->pytest-playwright==0.4.3->-r requirements.txt (line 2)) (3.3)\n",
      "Requirement already satisfied: urllib3<1.27,>=1.21.1 in /Users/ethanelasky/anaconda3/lib/python3.11/site-packages (from requests>=2.9->pytest-base-url<3.0.0,>=1.0.0->pytest-playwright==0.4.3->-r requirements.txt (line 2)) (1.26.7)\n",
      "Requirement already satisfied: certifi>=2017.4.17 in /Users/ethanelasky/anaconda3/lib/python3.11/site-packages (from requests>=2.9->pytest-base-url<3.0.0,>=1.0.0->pytest-playwright==0.4.3->-r requirements.txt (line 2)) (2021.10.8)\n"
     ]
    }
   ],
   "source": [
    "# Setting stuff up\n",
    "# Select and install requirements\n",
    "reqs = \"\"\"\n",
    "pytest-playwright==0.4.3\n",
    "\"\"\"\n",
    "\n",
    "with open(r'requirements.txt', 'w') as reqs_txt:\n",
    "    reqs_txt.write(reqs)\n",
    "    reqs_txt.close()\n",
    "\n",
    "! pip install -r requirements.txt\n",
    "\n",
    "! playwright install"
   ]
  },
  {
   "cell_type": "code",
   "execution_count": 2,
   "metadata": {},
   "outputs": [
    {
     "ename": "Error",
     "evalue": "It looks like you are using Playwright Sync API inside the asyncio loop.\nPlease use the Async API instead.",
     "output_type": "error",
     "traceback": [
      "\u001b[0;31m---------------------------------------------------------------------------\u001b[0m",
      "\u001b[0;31mError\u001b[0m                                     Traceback (most recent call last)",
      "\u001b[1;32m/Users/ethanelasky/code/ustmc/playwright/test.ipynb Cell 2\u001b[0m line \u001b[0;36m5\n\u001b[1;32m      <a href='vscode-notebook-cell:/Users/ethanelasky/code/ustmc/playwright/test.ipynb#W1sZmlsZQ%3D%3D?line=1'>2</a>\u001b[0m \u001b[39mimport\u001b[39;00m \u001b[39mplaywright\u001b[39;00m\n\u001b[1;32m      <a href='vscode-notebook-cell:/Users/ethanelasky/code/ustmc/playwright/test.ipynb#W1sZmlsZQ%3D%3D?line=2'>3</a>\u001b[0m \u001b[39mfrom\u001b[39;00m \u001b[39mplaywright\u001b[39;00m\u001b[39m.\u001b[39;00m\u001b[39msync_api\u001b[39;00m \u001b[39mimport\u001b[39;00m Page, expect, sync_playwright\n\u001b[0;32m----> <a href='vscode-notebook-cell:/Users/ethanelasky/code/ustmc/playwright/test.ipynb#W1sZmlsZQ%3D%3D?line=4'>5</a>\u001b[0m \u001b[39mwith\u001b[39;00m sync_playwright() \u001b[39mas\u001b[39;00m pw:\n\u001b[1;32m      <a href='vscode-notebook-cell:/Users/ethanelasky/code/ustmc/playwright/test.ipynb#W1sZmlsZQ%3D%3D?line=5'>6</a>\u001b[0m     \u001b[39m# create browser instance\u001b[39;00m\n\u001b[1;32m      <a href='vscode-notebook-cell:/Users/ethanelasky/code/ustmc/playwright/test.ipynb#W1sZmlsZQ%3D%3D?line=6'>7</a>\u001b[0m     browser \u001b[39m=\u001b[39m pw\u001b[39m.\u001b[39mchromium\u001b[39m.\u001b[39mlaunch(\n\u001b[1;32m      <a href='vscode-notebook-cell:/Users/ethanelasky/code/ustmc/playwright/test.ipynb#W1sZmlsZQ%3D%3D?line=7'>8</a>\u001b[0m         \u001b[39m# we can choose either a Headful (With GUI) or Headless mode:\u001b[39;00m\n\u001b[1;32m      <a href='vscode-notebook-cell:/Users/ethanelasky/code/ustmc/playwright/test.ipynb#W1sZmlsZQ%3D%3D?line=8'>9</a>\u001b[0m         headless\u001b[39m=\u001b[39m\u001b[39mFalse\u001b[39;00m,\n\u001b[1;32m     <a href='vscode-notebook-cell:/Users/ethanelasky/code/ustmc/playwright/test.ipynb#W1sZmlsZQ%3D%3D?line=9'>10</a>\u001b[0m     )\n\u001b[1;32m     <a href='vscode-notebook-cell:/Users/ethanelasky/code/ustmc/playwright/test.ipynb#W1sZmlsZQ%3D%3D?line=10'>11</a>\u001b[0m     \u001b[39m# create context\u001b[39;00m\n\u001b[1;32m     <a href='vscode-notebook-cell:/Users/ethanelasky/code/ustmc/playwright/test.ipynb#W1sZmlsZQ%3D%3D?line=11'>12</a>\u001b[0m     \u001b[39m# using context we can define page properties like viewport dimensions\u001b[39;00m\n",
      "File \u001b[0;32m~/anaconda3/lib/python3.11/site-packages/playwright/sync_api/_context_manager.py:47\u001b[0m, in \u001b[0;36mPlaywrightContextManager.__enter__\u001b[0;34m(self)\u001b[0m\n\u001b[1;32m     45\u001b[0m             \u001b[39mself\u001b[39m\u001b[39m.\u001b[39m_own_loop \u001b[39m=\u001b[39m \u001b[39mTrue\u001b[39;00m\n\u001b[1;32m     46\u001b[0m         \u001b[39mif\u001b[39;00m \u001b[39mself\u001b[39m\u001b[39m.\u001b[39m_loop\u001b[39m.\u001b[39mis_running():\n\u001b[0;32m---> 47\u001b[0m             \u001b[39mraise\u001b[39;00m Error(\n\u001b[1;32m     48\u001b[0m \u001b[39m                \u001b[39m\u001b[39m\"\"\"It looks like you are using Playwright Sync API inside the asyncio loop.\u001b[39;00m\n\u001b[1;32m     49\u001b[0m \u001b[39mPlease use the Async API instead.\"\"\"\u001b[39;00m\n\u001b[1;32m     50\u001b[0m             )\n\u001b[1;32m     52\u001b[0m         \u001b[39m# Create a new fiber for the protocol dispatcher. It will be pumping events\u001b[39;00m\n\u001b[1;32m     53\u001b[0m         \u001b[39m# until the end of times. We will pass control to that fiber every time we\u001b[39;00m\n\u001b[1;32m     54\u001b[0m         \u001b[39m# block while waiting for a response.\u001b[39;00m\n\u001b[1;32m     55\u001b[0m         \u001b[39mdef\u001b[39;00m \u001b[39mgreenlet_main\u001b[39m() \u001b[39m-\u001b[39m\u001b[39m>\u001b[39m \u001b[39mNone\u001b[39;00m:\n",
      "\u001b[0;31mError\u001b[0m: It looks like you are using Playwright Sync API inside the asyncio loop.\nPlease use the Async API instead."
     ]
    }
   ],
   "source": [
    "import re\n",
    "import playwright\n",
    "from playwright.sync_api import Page, expect, sync_playwright\n",
    "\n",
    "with sync_playwright() as pw:\n",
    "    # create browser instance\n",
    "    browser = pw.chromium.launch(\n",
    "        # we can choose either a Headful (With GUI) or Headless mode:\n",
    "        headless=False,\n",
    "    )\n",
    "    # create context\n",
    "    # using context we can define page properties like viewport dimensions\n",
    "    context = browser.new_context(\n",
    "        # most common desktop viewport is 1920x1080\n",
    "        viewport={\"width\": 1920, \"height\": 1080}\n",
    "    )\n",
    "    # create page aka browser tab which we'll be using to do everything\n",
    "    page = context.new_page()\n",
    "    page.goto(\"https://search.ltn.com.tw/list?keyword=的&start_time=20130101&end_time=20130102&sort=date&type=all&page=1\")"
   ]
  },
  {
   "cell_type": "code",
   "execution_count": null,
   "metadata": {},
   "outputs": [],
   "source": [
    "import asyncio\n",
    "from playwright.async_api import async_playwright\n",
    "\n",
    "# Function to scrape a single page\n",
    "async def scrape_page(page):\n",
    "    items = []\n",
    "    # Replace 'selector_for_list_item' with the actual selector of the list items you want to scrape\n",
    "    list_items = await page.query_selector_all('selector_for_list_item')\n",
    "    for item in list_items:\n",
    "        # Extract the text or any other attribute you're interested in\n",
    "        text = await item.text_content()\n",
    "        items.append(text)\n",
    "    return items\n",
    "\n",
    "# Function to handle pagination and scrape all pages\n",
    "async def scrape_all_pages():\n",
    "    # Start Playwright in asynchronous mode\n",
    "    async with async_playwright() as p:\n",
    "        browser = await p.chromium.launch()\n",
    "        page = await browser.new_page()\n",
    "        await page.goto('https://search.ltn.com.tw/list?keyword=的&start_time=20130101&end_time=20130102&sort=date&type=all&page=1') \n",
    "\n",
    "        all_items = []\n",
    "\n",
    "        while True:\n",
    "            # Scrape the current page\n",
    "            current_page_items = await scrape_page(page)\n",
    "            all_items.extend(current_page_items)\n",
    "\n",
    "            # Try to find the next button and click it to go to the next page\n",
    "            # Replace 'selector_for_next_button' with the actual selector for the pagination next button\n",
    "            next_button = await page.query_selector('selector_for_next_button')\n",
    "            if next_button and await next_button.is_visible():\n",
    "                await next_button.click()\n",
    "                # Wait for navigation to complete before starting the next scrape\n",
    "                await page.wait_for_load_state('networkidle')\n",
    "            else:\n",
    "                # If there's no next button, we've reached the last page\n",
    "                break\n",
    "\n",
    "        await browser.close()\n",
    "        return all_items\n",
    "\n",
    "# Running the async function in Jupyter Notebook\n",
    "%pip install nest_asyncio\n",
    "import nest_asyncio\n",
    "nest_asyncio.apply()\n",
    "\n",
    "# Run the scraping\n",
    "results = await scrape_all_pages()\n",
    "\n",
    "# Now, results holds all the scraped items\n",
    "print(results)\n"
   ]
  }
 ],
 "metadata": {
  "kernelspec": {
   "display_name": "base",
   "language": "python",
   "name": "python3"
  },
  "language_info": {
   "codemirror_mode": {
    "name": "ipython",
    "version": 3
   },
   "file_extension": ".py",
   "mimetype": "text/x-python",
   "name": "python",
   "nbconvert_exporter": "python",
   "pygments_lexer": "ipython3",
   "version": "3.11.3"
  },
  "orig_nbformat": 4
 },
 "nbformat": 4,
 "nbformat_minor": 2
}
