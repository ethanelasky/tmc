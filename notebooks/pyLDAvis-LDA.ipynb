{
 "cells": [
  {
   "cell_type": "code",
   "execution_count": null,
   "id": "a2ecefc6-7b83-46f4-b993-6db960fe1a09",
   "metadata": {},
   "outputs": [],
   "source": [
    "from gensim.models import LdaMulticore\n",
    "\n",
    "import pyLDAvis\n",
    "import pyLDAvis.gensim_models as gensimvis"
   ]
  },
  {
   "cell_type": "code",
   "execution_count": null,
   "id": "d6d9051f-fb35-4235-8e82-5a1df34f8d1f",
   "metadata": {},
   "outputs": [],
   "source": [
    "# Load the list from the file\n",
    "import pickle\n",
    "with open('results/gensim_lda/dic.pkl', 'rb') as file:\n",
    "    dictionary = pickle.load(file)\n",
    "    \n",
    "with open('results/gensim_lda/corpus.pkl', 'rb') as file:\n",
    "    corpus = pickle.load(file)"
   ]
  },
  {
   "cell_type": "code",
   "execution_count": null,
   "id": "b25c6e66-8d31-4104-8967-c639770d8ea3",
   "metadata": {},
   "outputs": [],
   "source": [
    "lda = LdaMulticore.load('results/gensim_lda/lda_30')"
   ]
  },
  {
   "cell_type": "code",
   "execution_count": null,
   "id": "0b3c98bc-144b-4ede-9b99-60252968a26b",
   "metadata": {},
   "outputs": [],
   "source": [
    "# Set the desired relevance lambda value\n",
    "relevance_lambda = 0.6\n",
    "\n",
    "# Prepare the data for pyLDAvis\n",
    "vis_data = gensimvis.prepare(lda, corpus, dictionary, lambda_step=0.1)\n"
   ]
  },
  {
   "cell_type": "code",
   "execution_count": null,
   "id": "712d5b1b-3e3a-4494-bc45-06ef43432efb",
   "metadata": {},
   "outputs": [],
   "source": [
    "pyLDAvis.save_html(vis_data, \"results/pyLDAvis_lda/pyLDAvis_30_topic_zh.html\")"
   ]
  },
  {
   "cell_type": "code",
   "execution_count": null,
   "id": "49c17379-bb09-4101-815e-74d0be562274",
   "metadata": {},
   "outputs": [],
   "source": [
    "import pandas as pd"
   ]
  },
  {
   "cell_type": "code",
   "execution_count": null,
   "id": "26167487-bdb9-45a2-b712-773dd5d24e9e",
   "metadata": {},
   "outputs": [],
   "source": [
    "freqs = []\n",
    "for i in range(15):\n",
    "    freqs.append(vis_data.sorted_terms(topic=i, _lambda=0.6).sort_values('relevance', ascending=False).iloc[:20, :])\n",
    "freq = pd.concat(freqs)"
   ]
  },
  {
   "cell_type": "code",
   "execution_count": null,
   "id": "e246f38d-7b3b-48e4-8b13-3fd2378320f8",
   "metadata": {},
   "outputs": [],
   "source": []
  }
 ],
 "metadata": {
  "kernelspec": {
   "display_name": "Python 3 (ipykernel)",
   "language": "python",
   "name": "python3"
  },
  "language_info": {
   "codemirror_mode": {
    "name": "ipython",
    "version": 3
   },
   "file_extension": ".py",
   "mimetype": "text/x-python",
   "name": "python",
   "nbconvert_exporter": "python",
   "pygments_lexer": "ipython3",
   "version": "3.11.7"
  }
 },
 "nbformat": 4,
 "nbformat_minor": 5
}
