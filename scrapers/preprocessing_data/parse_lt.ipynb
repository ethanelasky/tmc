{
 "cells": [
  {
   "cell_type": "code",
   "execution_count": 3,
   "metadata": {},
   "outputs": [],
   "source": [
    "from bs4 import BeautifulSoup\n",
    "import glob\n",
    "import numpy as np\n",
    "import pandas as pd\n",
    "import re\n",
    "import sys"
   ]
  },
  {
   "cell_type": "markdown",
   "metadata": {},
   "source": [
    "# Processing LT"
   ]
  },
  {
   "cell_type": "code",
   "execution_count": 4,
   "metadata": {},
   "outputs": [
    {
     "name": "stderr",
     "output_type": "stream",
     "text": [
      "/var/folders/g_/c145jppj74d6_h68pzdpnpd80000gn/T/ipykernel_97606/3294988658.py:2: FutureWarning: In a future version of pandas, parsing datetimes with mixed time zones will raise an error unless `utc=True`. Please specify `utc=True` to opt in to the new behaviour and silence this warning. To create a `Series` with mixed offsets and `object` dtype, please use `apply` and `datetime.datetime.strptime`\n",
      "  df['date'] = pd.to_datetime(df['date'], format='mixed', errors='coerce')\n"
     ]
    }
   ],
   "source": [
    "df = pd.read_csv(\"ltn_2023_links_0_processed.csv\", index_col=0)\n",
    "df['date'] = pd.to_datetime(df['date'], format='mixed', errors='coerce')\n",
    "df = df[~pd.isnull(df['date'])] # Dropped all articles with invalid dates, e.g. https://ec.ltn.com.tw/article/breakingnews/4175363, which has year -0001\n",
    "df = df.sort_values(\"date\")\n",
    "df = df.drop_duplicates(\"title\")"
   ]
  },
  {
   "cell_type": "code",
   "execution_count": 53,
   "metadata": {},
   "outputs": [
    {
     "name": "stderr",
     "output_type": "stream",
     "text": [
      "/var/folders/g_/c145jppj74d6_h68pzdpnpd80000gn/T/ipykernel_97606/2625881571.py:5: FutureWarning: The behavior of array concatenation with empty entries is deprecated. In a future version, this will no longer exclude empty items when determining the result dtype. To retain the old behavior, exclude the empty entries before the concat operation.\n",
      "  df = pd.concat(dfs)\n"
     ]
    }
   ],
   "source": [
    "dfs = []\n",
    "for i in range(0, 6):\n",
    "    dfs.append(pd.read_csv(f\"ltn_2023_links_{i}_processed.csv\", index_col=0))\n",
    "dfs.append(pd.read_csv(\"ltn_2023_24_links_processed.csv\", index_col=0))\n",
    "df = pd.concat(dfs)"
   ]
  },
  {
   "cell_type": "code",
   "execution_count": 65,
   "metadata": {},
   "outputs": [],
   "source": [
    "import datetime\n",
    "df['date'] = pd.to_datetime(df['date'], format='mixed', errors='coerce')\n",
    "df = df[~pd.isnull(df['date'])] # Drop all articles with invalid dates, e.g. https://ec.ltn.com.tw/article/breakingnews/4175363, which has year -0001. All of these articles are entertainment section articles.\n",
    "df = df.sort_values(\"date\")\n",
    "df = df.drop_duplicates(\"title\")"
   ]
  },
  {
   "cell_type": "code",
   "execution_count": 72,
   "metadata": {},
   "outputs": [],
   "source": [
    "from datetime import datetime\n",
    "df = df[pd.to_datetime(df['date'], utc=True) < '2024-01-31 4:00']"
   ]
  },
  {
   "cell_type": "code",
   "execution_count": 75,
   "metadata": {},
   "outputs": [],
   "source": [
    "df.to_parquet(\"lt_2023_contents.parquet\")"
   ]
  },
  {
   "cell_type": "code",
   "execution_count": null,
   "metadata": {},
   "outputs": [],
   "source": []
  }
 ],
 "metadata": {
  "kernelspec": {
   "display_name": "base",
   "language": "python",
   "name": "python3"
  },
  "language_info": {
   "codemirror_mode": {
    "name": "ipython",
    "version": 3
   },
   "file_extension": ".py",
   "mimetype": "text/x-python",
   "name": "python",
   "nbconvert_exporter": "python",
   "pygments_lexer": "ipython3",
   "version": "3.11.3"
  },
  "orig_nbformat": 4
 },
 "nbformat": 4,
 "nbformat_minor": 2
}
