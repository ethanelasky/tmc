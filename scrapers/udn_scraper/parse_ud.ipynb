{
 "cells": [
  {
   "cell_type": "code",
   "execution_count": 91,
   "metadata": {},
   "outputs": [],
   "source": [
    "from bs4 import BeautifulSoup\n",
    "import glob\n",
    "import numpy as np\n",
    "import pandas as pd\n",
    "import re\n",
    "import sys"
   ]
  },
  {
   "cell_type": "markdown",
   "metadata": {},
   "source": [
    "## Fixing UD 2023 edge cases"
   ]
  },
  {
   "cell_type": "code",
   "execution_count": 24,
   "metadata": {},
   "outputs": [],
   "source": [
    "name = 'udn_2023'\n",
    "import pandas as pd\n",
    "dfs = []\n",
    "for i in range(0, 6):\n",
    "    dfs.append(pd.read_csv(name + f'_links_{i}_processed.csv', index_col=0))\n",
    "df = pd.concat(dfs)"
   ]
  },
  {
   "cell_type": "code",
   "execution_count": 29,
   "metadata": {},
   "outputs": [
    {
     "name": "stderr",
     "output_type": "stream",
     "text": [
      "/Users/ethanelasky/anaconda3/lib/python3.11/site-packages/pyarrow/pandas_compat.py:373: FutureWarning: is_sparse is deprecated and will be removed in a future version. Check `isinstance(dtype, pd.SparseDtype)` instead.\n",
      "  if _pandas_api.is_sparse(col):\n"
     ]
    }
   ],
   "source": [
    "df.loc[667363, 'title'] = '貧窮台灣／山中的提琴手 想當建築師幫窮人蓋房'\n",
    "df = df.dropna()\n",
    "df.to_parquet(name + \"_contents.parquet\")"
   ]
  },
  {
   "cell_type": "markdown",
   "metadata": {},
   "source": [
    "## Fixing UD 2022 edge cases"
   ]
  },
  {
   "cell_type": "code",
   "execution_count": 33,
   "metadata": {},
   "outputs": [],
   "source": [
    "name = 'udn_2022'\n",
    "import pandas as pd\n",
    "dfs = []\n",
    "for i in range(0, 6):\n",
    "    dfs.append(pd.read_csv(name + f'_links_{i}_processed.csv', index_col=0))\n",
    "df = pd.concat(dfs)"
   ]
  },
  {
   "cell_type": "code",
   "execution_count": 34,
   "metadata": {},
   "outputs": [
    {
     "name": "stderr",
     "output_type": "stream",
     "text": [
      "/Users/ethanelasky/anaconda3/lib/python3.11/site-packages/pyarrow/pandas_compat.py:373: FutureWarning: is_sparse is deprecated and will be removed in a future version. Check `isinstance(dtype, pd.SparseDtype)` instead.\n",
      "  if _pandas_api.is_sparse(col):\n"
     ]
    }
   ],
   "source": [
    "df = df.dropna()\n",
    "df.to_parquet(name + \"_contents.parquet\")"
   ]
  },
  {
   "cell_type": "code",
   "execution_count": 35,
   "metadata": {},
   "outputs": [
    {
     "data": {
      "text/html": [
       "<div>\n",
       "<style scoped>\n",
       "    .dataframe tbody tr th:only-of-type {\n",
       "        vertical-align: middle;\n",
       "    }\n",
       "\n",
       "    .dataframe tbody tr th {\n",
       "        vertical-align: top;\n",
       "    }\n",
       "\n",
       "    .dataframe thead th {\n",
       "        text-align: right;\n",
       "    }\n",
       "</style>\n",
       "<table border=\"1\" class=\"dataframe\">\n",
       "  <thead>\n",
       "    <tr style=\"text-align: right;\">\n",
       "      <th></th>\n",
       "      <th>title</th>\n",
       "      <th>date</th>\n",
       "      <th>text</th>\n",
       "      <th>link</th>\n",
       "    </tr>\n",
       "  </thead>\n",
       "  <tbody>\n",
       "    <tr>\n",
       "      <th>348668</th>\n",
       "      <td>台64快速道路9.5K 賓士車翻覆駕駛無生命徵象</td>\n",
       "      <td>2022-01-06 23:43</td>\n",
       "      <td>今天晚上10時許，一輛由43歲戴姓男子所駕駛的賓士車，行經新北市台64快速道路9.5公里處（...</td>\n",
       "      <td>https://udn.com/news/story/7320/6015550</td>\n",
       "    </tr>\n",
       "    <tr>\n",
       "      <th>348669</th>\n",
       "      <td>《病主法》實施3周年 楊玉欣盼資訊再普遍、費用合理化</td>\n",
       "      <td>2022-01-06 23:42</td>\n",
       "      <td>《病人自主權利法》為亞洲第一部以病人為主體，完整保障醫療自主權及善終權，今日邁入施行三週年，...</td>\n",
       "      <td>https://udn.com/news/story/7266/6015548</td>\n",
       "    </tr>\n",
       "    <tr>\n",
       "      <th>348670</th>\n",
       "      <td>金嗓歌友會跨年800人聚會 傳篩檢至少3、4人確診</td>\n",
       "      <td>2022-01-06 23:36</td>\n",
       "      <td>桃園機場爆發群聚感染，其中一名確診清潔工曾在2021跨年夜去中壢金嗓歌友會打牌，當天適逢歌友...</td>\n",
       "      <td>https://udn.com/news/story/7314/6015528</td>\n",
       "    </tr>\n",
       "    <tr>\n",
       "      <th>348671</th>\n",
       "      <td>加入「日本第4調味料」！鳥喜「特別餐」飄宮崎柑橘香</td>\n",
       "      <td>2022-01-06 23:32</td>\n",
       "      <td>為了喚醒民眾在日本的美食回憶，在台推廣九州日向市食材的「日商夢多貿易公司」，本次攜手「台北鳥...</td>\n",
       "      <td>https://udn.com/news/story/7270/6015510</td>\n",
       "    </tr>\n",
       "    <tr>\n",
       "      <th>348672</th>\n",
       "      <td>元大金2021大賺348億創新高 每股股利上看1.7元</td>\n",
       "      <td>2022-01-06 23:18</td>\n",
       "      <td>元大金控（2885）率先同業公布2021全年自結稅後純益，累計全年大賺348.66億元，年增...</td>\n",
       "      <td>https://udn.com/news/story/7239/6015437</td>\n",
       "    </tr>\n",
       "    <tr>\n",
       "      <th>...</th>\n",
       "      <td>...</td>\n",
       "      <td>...</td>\n",
       "      <td>...</td>\n",
       "      <td>...</td>\n",
       "    </tr>\n",
       "    <tr>\n",
       "      <th>536237</th>\n",
       "      <td>大陸3周3億人確診！工廠停機、業績已大跌…昆山電子廠台商告白：員工薪水能不發先不發</td>\n",
       "      <td>2022-12-28 13:07</td>\n",
       "      <td>【撰文‧乾隆來】\\n中國清零政策瞬間解開，變種病毒與搶藥風暴正在衝擊日本、台灣等鄰國，而眾多...</td>\n",
       "      <td>https://udn.com/news/story/6839/6870435</td>\n",
       "    </tr>\n",
       "    <tr>\n",
       "      <th>536238</th>\n",
       "      <td>花8萬補英文退費只拿回一半！全台補習班每年申訴逾400件 為何民眾只能當冤大頭？</td>\n",
       "      <td>2022-12-28 12:58</td>\n",
       "      <td>\\n【撰文‧陳燕珩】\\n台灣有1萬7千多家補習班，比便利商店還多，每年衍生的消費糾紛，近8成...</td>\n",
       "      <td>https://udn.com/news/story/6839/6870415</td>\n",
       "    </tr>\n",
       "    <tr>\n",
       "      <th>536241</th>\n",
       "      <td>台塑為何與日超級電腦龍頭牽手、攻量子運算？故事從30年前董座留學荷蘭說起</td>\n",
       "      <td>2022-12-28 12:41</td>\n",
       "      <td>\\n【撰文・劉煥彥】\\n\\n石化業龍頭台塑公司（1301）的董事長林健男，本月接連兩次現身量...</td>\n",
       "      <td>https://udn.com/news/story/6839/6870386</td>\n",
       "    </tr>\n",
       "    <tr>\n",
       "      <th>536243</th>\n",
       "      <td>綠色生活向前行／2023臺灣半導體產值上看5兆</td>\n",
       "      <td>2022-12-28 11:20</td>\n",
       "      <td>【撰文／陳怡如】\\n後疫情時代加速數位轉型，推升5G、AI與高效能運算商機，半導體產業持續成...</td>\n",
       "      <td>https://udn.com/news/story/6905/6869954</td>\n",
       "    </tr>\n",
       "    <tr>\n",
       "      <th>536248</th>\n",
       "      <td>金融市場股債雙殺 退休投資計畫別半途而廢</td>\n",
       "      <td>2022-12-28 09:03</td>\n",
       "      <td>【撰文：王儷玲】\\n\\n今年以來通膨高漲，各國央行接連升息，金融市場股債雙殺，令許多投資人驚...</td>\n",
       "      <td>https://udn.com/news/story/6854/6869468</td>\n",
       "    </tr>\n",
       "  </tbody>\n",
       "</table>\n",
       "<p>164755 rows × 4 columns</p>\n",
       "</div>"
      ],
      "text/plain": [
       "                                            title              date  \\\n",
       "348668                   台64快速道路9.5K 賓士車翻覆駕駛無生命徵象  2022-01-06 23:43   \n",
       "348669                 《病主法》實施3周年 楊玉欣盼資訊再普遍、費用合理化  2022-01-06 23:42   \n",
       "348670                  金嗓歌友會跨年800人聚會 傳篩檢至少3、4人確診  2022-01-06 23:36   \n",
       "348671                  加入「日本第4調味料」！鳥喜「特別餐」飄宮崎柑橘香  2022-01-06 23:32   \n",
       "348672                元大金2021大賺348億創新高 每股股利上看1.7元  2022-01-06 23:18   \n",
       "...                                           ...               ...   \n",
       "536237  大陸3周3億人確診！工廠停機、業績已大跌…昆山電子廠台商告白：員工薪水能不發先不發  2022-12-28 13:07   \n",
       "536238   花8萬補英文退費只拿回一半！全台補習班每年申訴逾400件 為何民眾只能當冤大頭？  2022-12-28 12:58   \n",
       "536241       台塑為何與日超級電腦龍頭牽手、攻量子運算？故事從30年前董座留學荷蘭說起  2022-12-28 12:41   \n",
       "536243                    綠色生活向前行／2023臺灣半導體產值上看5兆  2022-12-28 11:20   \n",
       "536248                       金融市場股債雙殺 退休投資計畫別半途而廢  2022-12-28 09:03   \n",
       "\n",
       "                                                     text  \\\n",
       "348668  今天晚上10時許，一輛由43歲戴姓男子所駕駛的賓士車，行經新北市台64快速道路9.5公里處（...   \n",
       "348669  《病人自主權利法》為亞洲第一部以病人為主體，完整保障醫療自主權及善終權，今日邁入施行三週年，...   \n",
       "348670  桃園機場爆發群聚感染，其中一名確診清潔工曾在2021跨年夜去中壢金嗓歌友會打牌，當天適逢歌友...   \n",
       "348671  為了喚醒民眾在日本的美食回憶，在台推廣九州日向市食材的「日商夢多貿易公司」，本次攜手「台北鳥...   \n",
       "348672  元大金控（2885）率先同業公布2021全年自結稅後純益，累計全年大賺348.66億元，年增...   \n",
       "...                                                   ...   \n",
       "536237  【撰文‧乾隆來】\\n中國清零政策瞬間解開，變種病毒與搶藥風暴正在衝擊日本、台灣等鄰國，而眾多...   \n",
       "536238  \\n【撰文‧陳燕珩】\\n台灣有1萬7千多家補習班，比便利商店還多，每年衍生的消費糾紛，近8成...   \n",
       "536241  \\n【撰文・劉煥彥】\\n\\n石化業龍頭台塑公司（1301）的董事長林健男，本月接連兩次現身量...   \n",
       "536243  【撰文／陳怡如】\\n後疫情時代加速數位轉型，推升5G、AI與高效能運算商機，半導體產業持續成...   \n",
       "536248  【撰文：王儷玲】\\n\\n今年以來通膨高漲，各國央行接連升息，金融市場股債雙殺，令許多投資人驚...   \n",
       "\n",
       "                                           link  \n",
       "348668  https://udn.com/news/story/7320/6015550  \n",
       "348669  https://udn.com/news/story/7266/6015548  \n",
       "348670  https://udn.com/news/story/7314/6015528  \n",
       "348671  https://udn.com/news/story/7270/6015510  \n",
       "348672  https://udn.com/news/story/7239/6015437  \n",
       "...                                         ...  \n",
       "536237  https://udn.com/news/story/6839/6870435  \n",
       "536238  https://udn.com/news/story/6839/6870415  \n",
       "536241  https://udn.com/news/story/6839/6870386  \n",
       "536243  https://udn.com/news/story/6905/6869954  \n",
       "536248  https://udn.com/news/story/6854/6869468  \n",
       "\n",
       "[164755 rows x 4 columns]"
      ]
     },
     "execution_count": 35,
     "metadata": {},
     "output_type": "execute_result"
    }
   ],
   "source": [
    "df"
   ]
  },
  {
   "cell_type": "code",
   "execution_count": 37,
   "metadata": {},
   "outputs": [
    {
     "data": {
      "text/html": [
       "<div>\n",
       "<style scoped>\n",
       "    .dataframe tbody tr th:only-of-type {\n",
       "        vertical-align: middle;\n",
       "    }\n",
       "\n",
       "    .dataframe tbody tr th {\n",
       "        vertical-align: top;\n",
       "    }\n",
       "\n",
       "    .dataframe thead th {\n",
       "        text-align: right;\n",
       "    }\n",
       "</style>\n",
       "<table border=\"1\" class=\"dataframe\">\n",
       "  <thead>\n",
       "    <tr style=\"text-align: right;\">\n",
       "      <th></th>\n",
       "      <th>title</th>\n",
       "      <th>date</th>\n",
       "      <th>text</th>\n",
       "      <th>link</th>\n",
       "    </tr>\n",
       "  </thead>\n",
       "  <tbody>\n",
       "  </tbody>\n",
       "</table>\n",
       "</div>"
      ],
      "text/plain": [
       "Empty DataFrame\n",
       "Columns: [title, date, text, link]\n",
       "Index: []"
      ]
     },
     "execution_count": 37,
     "metadata": {},
     "output_type": "execute_result"
    }
   ],
   "source": [
    "df[df.isna().any(axis=1)]"
   ]
  },
  {
   "cell_type": "markdown",
   "metadata": {},
   "source": [
    "## Fixing UD 2021 links"
   ]
  },
  {
   "cell_type": "code",
   "execution_count": 43,
   "metadata": {},
   "outputs": [],
   "source": [
    "name = 'udn_2021'\n",
    "import pandas as pd\n",
    "dfs = []\n",
    "for i in range(0, 6):\n",
    "    dfs.append(pd.read_csv(name + f'_links_{i}_processed.csv', index_col=0))\n",
    "df = pd.concat(dfs)"
   ]
  },
  {
   "cell_type": "code",
   "execution_count": 44,
   "metadata": {},
   "outputs": [
    {
     "name": "stderr",
     "output_type": "stream",
     "text": [
      "/Users/ethanelasky/anaconda3/lib/python3.11/site-packages/pyarrow/pandas_compat.py:373: FutureWarning: is_sparse is deprecated and will be removed in a future version. Check `isinstance(dtype, pd.SparseDtype)` instead.\n",
      "  if _pandas_api.is_sparse(col):\n"
     ]
    }
   ],
   "source": [
    "df.loc[240663, 'title'] = '法網／「精神健康」原因拒訪！大坂直美不怕被罰款'\n",
    "df.loc[240671, 'title'] = '法網／大坂直美硬起來 不參加本屆所有記者會'\n",
    "df.loc[240925, 'title'] = '法網／瓦解對手3盤末點 梁恩碩闖會外賽最終戰'\n",
    "df.loc[241781, 'title'] = '法網／莊吉生會外賽出局 梁恩碩晚間迎戰美19歲新星'\n",
    "df.loc[244936, 'title'] = '法網／會內籤表出爐  謝淑薇首戰中國王薔'\n",
    "df.loc[244941, 'title'] = '法網／「充滿虛偽的味道」 大坂直美拒訪聲明遭批譁眾取寵'\n",
    "df.loc[245178, 'title'] = '法網／成第6位晉會內賽台將 梁恩碩盼好消息給台灣力量'\n",
    "df = df.dropna()\n",
    "df.to_parquet(name + \"_contents.parquet\")"
   ]
  },
  {
   "cell_type": "markdown",
   "metadata": {},
   "source": [
    "# Fixing UD 2020 links"
   ]
  },
  {
   "cell_type": "code",
   "execution_count": 53,
   "metadata": {},
   "outputs": [],
   "source": [
    "name = 'udn_2020'\n",
    "import pandas as pd\n",
    "dfs = []\n",
    "for i in range(0, 6):\n",
    "    dfs.append(pd.read_csv(name + f'_links_{i}_processed.csv', index_col=0))\n",
    "df = pd.concat(dfs).sort_index()\n",
    "df = df.drop(97060)\n",
    "# Used code and/or manually removed these: 68981, 70753, 75148, 75681, 76763, 77161, 80284, 84162, 87551, 93420, 94064, 97614, 132683, 134999, 138265]) #1375, 2119, 18950, 31287, 33560, 36755, 41505, 41514, 41538, 49505, "
   ]
  },
  {
   "cell_type": "code",
   "execution_count": 56,
   "metadata": {},
   "outputs": [
    {
     "name": "stderr",
     "output_type": "stream",
     "text": [
      "/Users/ethanelasky/anaconda3/lib/python3.11/site-packages/pyarrow/pandas_compat.py:373: FutureWarning: is_sparse is deprecated and will be removed in a future version. Check `isinstance(dtype, pd.SparseDtype)` instead.\n",
      "  if _pandas_api.is_sparse(col):\n"
     ]
    }
   ],
   "source": [
    "df.to_parquet(\"udn_2020_contents.parquet\")"
   ]
  },
  {
   "cell_type": "markdown",
   "metadata": {},
   "source": [
    "# All together"
   ]
  },
  {
   "cell_type": "code",
   "execution_count": 2,
   "metadata": {},
   "outputs": [],
   "source": [
    "import pandas as pd\n",
    "dfs = []\n",
    "for i in range(4):\n",
    "    dfs.append(pd.read_parquet(f\"udn_{2020 + i}_contents.parquet\"))\n",
    "df = pd.concat(dfs)"
   ]
  },
  {
   "cell_type": "code",
   "execution_count": 3,
   "metadata": {},
   "outputs": [],
   "source": [
    "df['text'] = df['text'].str.replace(\"^【[^】]*】\", \"\", regex=True) #Removing author attributions\n",
    "df['text'] = df['text'].str.replace(\"\\n\", \"\") # Removing newlines"
   ]
  },
  {
   "cell_type": "code",
   "execution_count": 4,
   "metadata": {},
   "outputs": [],
   "source": [
    "df = df.sort_values('date').drop_duplicates(['title'])"
   ]
  },
  {
   "cell_type": "code",
   "execution_count": 5,
   "metadata": {},
   "outputs": [],
   "source": [
    "df['source'] = 'udn'"
   ]
  },
  {
   "cell_type": "code",
   "execution_count": 6,
   "metadata": {},
   "outputs": [
    {
     "name": "stderr",
     "output_type": "stream",
     "text": [
      "/Users/ethanelasky/anaconda3/lib/python3.11/site-packages/pyarrow/pandas_compat.py:373: FutureWarning: is_sparse is deprecated and will be removed in a future version. Check `isinstance(dtype, pd.SparseDtype)` instead.\n",
      "  if _pandas_api.is_sparse(col):\n"
     ]
    }
   ],
   "source": [
    "df.to_parquet(\"udn_contents.parquet\")"
   ]
  },
  {
   "cell_type": "code",
   "execution_count": null,
   "metadata": {},
   "outputs": [],
   "source": []
  }
 ],
 "metadata": {
  "kernelspec": {
   "display_name": "base",
   "language": "python",
   "name": "python3"
  },
  "language_info": {
   "codemirror_mode": {
    "name": "ipython",
    "version": 3
   },
   "file_extension": ".py",
   "mimetype": "text/x-python",
   "name": "python",
   "nbconvert_exporter": "python",
   "pygments_lexer": "ipython3",
   "version": "3.11.3"
  },
  "orig_nbformat": 4
 },
 "nbformat": 4,
 "nbformat_minor": 2
}
