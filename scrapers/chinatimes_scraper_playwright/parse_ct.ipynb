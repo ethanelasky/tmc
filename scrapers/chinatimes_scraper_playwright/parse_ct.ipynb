{
 "cells": [
  {
   "cell_type": "code",
   "execution_count": 1,
   "metadata": {},
   "outputs": [],
   "source": [
    "from bs4 import BeautifulSoup\n",
    "import glob\n",
    "import numpy as np\n",
    "import pandas as pd\n",
    "import re\n",
    "import sys"
   ]
  },
  {
   "cell_type": "markdown",
   "metadata": {},
   "source": [
    "# Fixing CT 2023 edge cases"
   ]
  },
  {
   "cell_type": "code",
   "execution_count": 2,
   "metadata": {},
   "outputs": [],
   "source": [
    "dfs = []\n",
    "for i in range(6):\n",
    "    dfs.append(pd.read_csv(f\"ct_last_urls_{i}_processed.csv\", index_col=0))\n",
    "\n",
    "df = pd.concat(dfs)"
   ]
  },
  {
   "cell_type": "code",
   "execution_count": 3,
   "metadata": {},
   "outputs": [
    {
     "data": {
      "text/html": [
       "<div>\n",
       "<style scoped>\n",
       "    .dataframe tbody tr th:only-of-type {\n",
       "        vertical-align: middle;\n",
       "    }\n",
       "\n",
       "    .dataframe tbody tr th {\n",
       "        vertical-align: top;\n",
       "    }\n",
       "\n",
       "    .dataframe thead th {\n",
       "        text-align: right;\n",
       "    }\n",
       "</style>\n",
       "<table border=\"1\" class=\"dataframe\">\n",
       "  <thead>\n",
       "    <tr style=\"text-align: right;\">\n",
       "      <th></th>\n",
       "      <th>title</th>\n",
       "      <th>source</th>\n",
       "      <th>date</th>\n",
       "      <th>text</th>\n",
       "      <th>link</th>\n",
       "    </tr>\n",
       "  </thead>\n",
       "  <tbody>\n",
       "    <tr>\n",
       "      <th>326941</th>\n",
       "      <td>NaN</td>\n",
       "      <td>NaN</td>\n",
       "      <td>NaN</td>\n",
       "      <td>NaN</td>\n",
       "      <td>https://www.chinatimes.com/amp/opinion/2023040...</td>\n",
       "    </tr>\n",
       "    <tr>\n",
       "      <th>327379</th>\n",
       "      <td>NaN</td>\n",
       "      <td>NaN</td>\n",
       "      <td>NaN</td>\n",
       "      <td>NaN</td>\n",
       "      <td>https://www.chinatimes.com/amp/realtimenews/20...</td>\n",
       "    </tr>\n",
       "    <tr>\n",
       "      <th>329412</th>\n",
       "      <td>NaN</td>\n",
       "      <td>NaN</td>\n",
       "      <td>NaN</td>\n",
       "      <td>NaN</td>\n",
       "      <td>https://www.chinatimes.com/amp/realtimenews/20...</td>\n",
       "    </tr>\n",
       "    <tr>\n",
       "      <th>336647</th>\n",
       "      <td>NaN</td>\n",
       "      <td>NaN</td>\n",
       "      <td>NaN</td>\n",
       "      <td>NaN</td>\n",
       "      <td>https://www.chinatimes.com/amp/realtimenews/20...</td>\n",
       "    </tr>\n",
       "    <tr>\n",
       "      <th>679446</th>\n",
       "      <td>2023年10月份PEUGEOT最新購車優惠專案</td>\n",
       "      <td>旺車</td>\n",
       "      <td>2023/10/02</td>\n",
       "      <td>NaN</td>\n",
       "      <td>https://www.chinatimes.com/amp/realtimenews/20...</td>\n",
       "    </tr>\n",
       "    <tr>\n",
       "      <th>679446</th>\n",
       "      <td>2023年10月份PEUGEOT最新購車優惠專案</td>\n",
       "      <td>旺車</td>\n",
       "      <td>2023/10/02</td>\n",
       "      <td>NaN</td>\n",
       "      <td>https://www.chinatimes.com/amp/realtimenews/20...</td>\n",
       "    </tr>\n",
       "  </tbody>\n",
       "</table>\n",
       "</div>"
      ],
      "text/plain": [
       "                           title source        date text  \\\n",
       "326941                       NaN    NaN         NaN  NaN   \n",
       "327379                       NaN    NaN         NaN  NaN   \n",
       "329412                       NaN    NaN         NaN  NaN   \n",
       "336647                       NaN    NaN         NaN  NaN   \n",
       "679446  2023年10月份PEUGEOT最新購車優惠專案     旺車  2023/10/02  NaN   \n",
       "679446  2023年10月份PEUGEOT最新購車優惠專案     旺車  2023/10/02  NaN   \n",
       "\n",
       "                                                     link  \n",
       "326941  https://www.chinatimes.com/amp/opinion/2023040...  \n",
       "327379  https://www.chinatimes.com/amp/realtimenews/20...  \n",
       "329412  https://www.chinatimes.com/amp/realtimenews/20...  \n",
       "336647  https://www.chinatimes.com/amp/realtimenews/20...  \n",
       "679446  https://www.chinatimes.com/amp/realtimenews/20...  \n",
       "679446  https://www.chinatimes.com/amp/realtimenews/20...  "
      ]
     },
     "execution_count": 3,
     "metadata": {},
     "output_type": "execute_result"
    }
   ],
   "source": [
    "df[df.isna().any(axis=1) & df['link']]"
   ]
  },
  {
   "cell_type": "code",
   "execution_count": 30,
   "metadata": {},
   "outputs": [],
   "source": [
    "df = df.drop([679446, 35720], axis=0) # Article without a body\n"
   ]
  },
  {
   "cell_type": "code",
   "execution_count": 31,
   "metadata": {},
   "outputs": [],
   "source": [
    "df = df.drop_duplicates('link')"
   ]
  },
  {
   "cell_type": "code",
   "execution_count": 37,
   "metadata": {},
   "outputs": [],
   "source": [
    "df = df.drop_duplicates([\"title\"]).sort_index()"
   ]
  },
  {
   "cell_type": "code",
   "execution_count": 48,
   "metadata": {},
   "outputs": [
    {
     "name": "stderr",
     "output_type": "stream",
     "text": [
      "/Users/ethanelasky/anaconda3/lib/python3.11/site-packages/pyarrow/pandas_compat.py:373: FutureWarning: is_sparse is deprecated and will be removed in a future version. Check `isinstance(dtype, pd.SparseDtype)` instead.\n",
      "  if _pandas_api.is_sparse(col):\n"
     ]
    }
   ],
   "source": [
    "df[pd.to_datetime(df['date']) < \"2024-02-01\"].to_parquet(\"ct_2023_contents.parquet\")"
   ]
  },
  {
   "cell_type": "markdown",
   "metadata": {},
   "source": [
    "# Fixing CT 2020 Edge cases"
   ]
  },
  {
   "cell_type": "code",
   "execution_count": null,
   "metadata": {},
   "outputs": [],
   "source": [
    "# This is in addition to the above generic preprocessing\n",
    "df = df.drop([7259413, 7403343, 6916026, 7048387, 7168086, 7314819, 7619206, 8015108]) # Dropping photo album entries (圖輯)"
   ]
  },
  {
   "cell_type": "markdown",
   "metadata": {},
   "source": [
    "# All together"
   ]
  },
  {
   "cell_type": "code",
   "execution_count": 5,
   "metadata": {},
   "outputs": [],
   "source": [
    "import pandas as pd\n",
    "dfs = []\n",
    "dfs.append(pd.read_parquet('ct_2020_contents.parquet'))\n",
    "dfs.append(pd.read_parquet(\"ct_2021_contents.parquet\"))\n",
    "dfs.append(pd.read_parquet('ct_2022_contents.parquet'))\n",
    "dfs.append(pd.read_parquet('ct_2023_contents.parquet'))"
   ]
  },
  {
   "cell_type": "code",
   "execution_count": 8,
   "metadata": {},
   "outputs": [],
   "source": [
    "df = pd.concat(dfs).drop_duplicates('title')"
   ]
  },
  {
   "cell_type": "code",
   "execution_count": 21,
   "metadata": {},
   "outputs": [],
   "source": [
    "df = df[df['video_only'] != True]\n",
    "df = df.drop('video_only', axis=1)\n",
    "df['paper'] = df['source']\n",
    "df['source'] = 'ct'"
   ]
  },
  {
   "cell_type": "code",
   "execution_count": 24,
   "metadata": {},
   "outputs": [],
   "source": [
    "df.to_parquet(\"ct_contents.parquet\")"
   ]
  },
  {
   "cell_type": "code",
   "execution_count": null,
   "metadata": {},
   "outputs": [],
   "source": []
  }
 ],
 "metadata": {
  "kernelspec": {
   "display_name": "base",
   "language": "python",
   "name": "python3"
  },
  "language_info": {
   "codemirror_mode": {
    "name": "ipython",
    "version": 3
   },
   "file_extension": ".py",
   "mimetype": "text/x-python",
   "name": "python",
   "nbconvert_exporter": "python",
   "pygments_lexer": "ipython3",
   "version": "3.11.3"
  },
  "orig_nbformat": 4
 },
 "nbformat": 4,
 "nbformat_minor": 2
}
