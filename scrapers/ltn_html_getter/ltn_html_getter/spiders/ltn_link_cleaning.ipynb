{
 "cells": [
  {
   "cell_type": "code",
   "execution_count": 2,
   "metadata": {},
   "outputs": [],
   "source": [
    "import pandas as pd\n",
    "import os\n",
    "\n",
    "df = pd.DataFrame()\n",
    "for root, directories, filenames in os.walk('data'):\n",
    "    for filename in filenames:\n",
    "        fpath = os.path.join(root,filename)\n",
    "        if (fpath[-4:] == 'json'):\n",
    "            df_to_concat = pd.read_json(fpath)\n",
    "            df = pd.concat([df, df_to_concat], ignore_index=True, join='outer')"
   ]
  },
  {
   "cell_type": "code",
   "execution_count": 3,
   "metadata": {},
   "outputs": [
    {
     "data": {
      "text/html": [
       "<div>\n",
       "<style scoped>\n",
       "    .dataframe tbody tr th:only-of-type {\n",
       "        vertical-align: middle;\n",
       "    }\n",
       "\n",
       "    .dataframe tbody tr th {\n",
       "        vertical-align: top;\n",
       "    }\n",
       "\n",
       "    .dataframe thead th {\n",
       "        text-align: right;\n",
       "    }\n",
       "</style>\n",
       "<table border=\"1\" class=\"dataframe\">\n",
       "  <thead>\n",
       "    <tr style=\"text-align: right;\">\n",
       "      <th></th>\n",
       "      <th>date</th>\n",
       "      <th>page</th>\n",
       "      <th>link</th>\n",
       "    </tr>\n",
       "  </thead>\n",
       "  <tbody>\n",
       "    <tr>\n",
       "      <th>0</th>\n",
       "      <td>20130101</td>\n",
       "      <td>1</td>\n",
       "      <td>https://news.ltn.com.tw/news/society/breakingn...</td>\n",
       "    </tr>\n",
       "    <tr>\n",
       "      <th>1</th>\n",
       "      <td>20130101</td>\n",
       "      <td>1</td>\n",
       "      <td>https://news.ltn.com.tw/news/life/breakingnews...</td>\n",
       "    </tr>\n",
       "    <tr>\n",
       "      <th>2</th>\n",
       "      <td>20130101</td>\n",
       "      <td>1</td>\n",
       "      <td>https://ent.ltn.com.tw/news/breakingnews/745944</td>\n",
       "    </tr>\n",
       "    <tr>\n",
       "      <th>3</th>\n",
       "      <td>20130101</td>\n",
       "      <td>1</td>\n",
       "      <td>https://ent.ltn.com.tw/news/breakingnews/745942</td>\n",
       "    </tr>\n",
       "    <tr>\n",
       "      <th>4</th>\n",
       "      <td>20130101</td>\n",
       "      <td>1</td>\n",
       "      <td>https://news.ltn.com.tw/news/life/breakingnews...</td>\n",
       "    </tr>\n",
       "    <tr>\n",
       "      <th>...</th>\n",
       "      <td>...</td>\n",
       "      <td>...</td>\n",
       "      <td>...</td>\n",
       "    </tr>\n",
       "    <tr>\n",
       "      <th>4117630</th>\n",
       "      <td>20230930</td>\n",
       "      <td>57</td>\n",
       "      <td>https://ec.ltn.com.tw/article/breakingnews/444...</td>\n",
       "    </tr>\n",
       "    <tr>\n",
       "      <th>4117631</th>\n",
       "      <td>20230930</td>\n",
       "      <td>57</td>\n",
       "      <td>https://sports.ltn.com.tw/news/breakingnews/44...</td>\n",
       "    </tr>\n",
       "    <tr>\n",
       "      <th>4117632</th>\n",
       "      <td>20230930</td>\n",
       "      <td>57</td>\n",
       "      <td>https://news.ltn.com.tw/news/society/breakingn...</td>\n",
       "    </tr>\n",
       "    <tr>\n",
       "      <th>4117633</th>\n",
       "      <td>20230930</td>\n",
       "      <td>57</td>\n",
       "      <td>https://news.ltn.com.tw/news/society/breakingn...</td>\n",
       "    </tr>\n",
       "    <tr>\n",
       "      <th>4117634</th>\n",
       "      <td>20230930</td>\n",
       "      <td>57</td>\n",
       "      <td>https://news.ltn.com.tw/news/society/breakingn...</td>\n",
       "    </tr>\n",
       "  </tbody>\n",
       "</table>\n",
       "<p>4117635 rows × 3 columns</p>\n",
       "</div>"
      ],
      "text/plain": [
       "             date  page                                               link\n",
       "0        20130101     1  https://news.ltn.com.tw/news/society/breakingn...\n",
       "1        20130101     1  https://news.ltn.com.tw/news/life/breakingnews...\n",
       "2        20130101     1    https://ent.ltn.com.tw/news/breakingnews/745944\n",
       "3        20130101     1    https://ent.ltn.com.tw/news/breakingnews/745942\n",
       "4        20130101     1  https://news.ltn.com.tw/news/life/breakingnews...\n",
       "...           ...   ...                                                ...\n",
       "4117630  20230930    57  https://ec.ltn.com.tw/article/breakingnews/444...\n",
       "4117631  20230930    57  https://sports.ltn.com.tw/news/breakingnews/44...\n",
       "4117632  20230930    57  https://news.ltn.com.tw/news/society/breakingn...\n",
       "4117633  20230930    57  https://news.ltn.com.tw/news/society/breakingn...\n",
       "4117634  20230930    57  https://news.ltn.com.tw/news/society/breakingn...\n",
       "\n",
       "[4117635 rows x 3 columns]"
      ]
     },
     "execution_count": 3,
     "metadata": {},
     "output_type": "execute_result"
    }
   ],
   "source": [
    "df = df.sort_values(['date', 'page']).reset_index(drop=True)\n",
    "df"
   ]
  },
  {
   "cell_type": "code",
   "execution_count": 7,
   "metadata": {},
   "outputs": [],
   "source": [
    "df = df.drop_duplicates()"
   ]
  },
  {
   "cell_type": "code",
   "execution_count": 8,
   "metadata": {},
   "outputs": [
    {
     "name": "stderr",
     "output_type": "stream",
     "text": [
      "/Users/ethanelasky/anaconda3/lib/python3.11/site-packages/pyarrow/pandas_compat.py:373: FutureWarning: is_sparse is deprecated and will be removed in a future version. Check `isinstance(dtype, pd.SparseDtype)` instead.\n",
      "  if _pandas_api.is_sparse(col):\n"
     ]
    }
   ],
   "source": [
    "df.to_parquet(\"ltn_links.parquet\")"
   ]
  },
  {
   "cell_type": "code",
   "execution_count": 10,
   "metadata": {},
   "outputs": [
    {
     "data": {
      "text/plain": [
       "array(['https://news.ltn.com.tw/news/society/breakingnews/745948',\n",
       "       'https://news.ltn.com.tw/news/life/breakingnews/745947',\n",
       "       'https://ent.ltn.com.tw/news/breakingnews/745944', ...,\n",
       "       'https://news.ltn.com.tw/news/society/breakingnews/4443837',\n",
       "       'https://news.ltn.com.tw/news/society/breakingnews/4443830',\n",
       "       'https://news.ltn.com.tw/news/society/breakingnews/4443833'],\n",
       "      dtype=object)"
      ]
     },
     "execution_count": 10,
     "metadata": {},
     "output_type": "execute_result"
    }
   ],
   "source": [
    "pd.read_parquet(\"ltn_links.parquet\")['link'].values"
   ]
  },
  {
   "cell_type": "code",
   "execution_count": null,
   "metadata": {},
   "outputs": [],
   "source": []
  }
 ],
 "metadata": {
  "kernelspec": {
   "display_name": "base",
   "language": "python",
   "name": "python3"
  },
  "language_info": {
   "codemirror_mode": {
    "name": "ipython",
    "version": 3
   },
   "file_extension": ".py",
   "mimetype": "text/x-python",
   "name": "python",
   "nbconvert_exporter": "python",
   "pygments_lexer": "ipython3",
   "version": "3.11.3"
  },
  "orig_nbformat": 4
 },
 "nbformat": 4,
 "nbformat_minor": 2
}
